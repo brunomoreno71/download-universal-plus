{
  "nbformat": 4,
  "nbformat_minor": 0,
  "metadata": {
    "colab": {
      "name": "Download Universal Plus.ipynb",
      "provenance": [],
      "collapsed_sections": [],
      "authorship_tag": "ABX9TyPPD90zEL/IXE3SvIBt84cd"
    },
    "kernelspec": {
      "name": "python3",
      "display_name": "Python 3"
    },
    "language_info": {
      "name": "python"
    }
  },
  "cells": [
    {
      "cell_type": "code",
      "metadata": {
        "cellView": "form",
        "id": "pMXnaXlLHJsL"
      },
      "source": [
        "#@markdown <br><center><img src='https://upload.wikimedia.org/wikipedia/commons/thumb/d/da/Google_Drive_logo.png/600px-Google_Drive_logo.png' height=\"50\" alt=\"Gdrive-logo\"/></center>\n",
        "#@markdown <center><h3>Mount GDrive to /content/drive</h3></center><br>\n",
        "MODE = \"MOUNT\" #@param [\"MOUNT\", \"UNMOUNT\"]\n",
        "#Mount your Gdrive! \n",
        "from google.colab import drive\n",
        "drive.mount._DEBUG = False\n",
        "if MODE == \"MOUNT\":\n",
        "  drive.mount('/content/drive', force_remount=True)\n",
        "elif MODE == \"UNMOUNT\":\n",
        "  try:\n",
        "    drive.flush_and_unmount()\n",
        "  except ValueError:\n",
        "    pass\n",
        "  get_ipython().system_raw(\"rm -rf /root/.config/Google/DriveFS\")"
      ],
      "execution_count": null,
      "outputs": []
    },
    {
      "cell_type": "code",
      "metadata": {
        "id": "UAREPjRAHMlI"
      },
      "source": [
        "!python -m pip install --upgrade yt-dlp\n",
        "!sudo apt install nodejs\n",
        "!sudo apt-get install nodejs-dev node-gyp libssl1.0-dev\n",
        "!sudo apt install npm\n",
        "!npm i bento4-installer\n",
        "!ln -s /content/node_modules/bento4-installer/src/platforms/linux-x64/bin/mp4decrypt /usr/bin/mp4decrypt"
      ],
      "execution_count": null,
      "outputs": []
    },
    {
      "cell_type": "code",
      "metadata": {
        "id": "FZFHWm0xbqoL"
      },
      "source": [
        "!yt-dlp -f video_avc1_2+audio_es_mp4a --allow-unplayable-formats https://universalplus.akamaized.net/prod/116/media-20210420235646-hl5x-0.mpd/stream.mpd"
      ],
      "execution_count": null,
      "outputs": []
    },
    {
      "cell_type": "code",
      "metadata": {
        "id": "Awb83ZxiIa2x"
      },
      "source": [
        "!yt-dlp -f audio_en_mp4a --allow-unplayable-formats https://universalplus.akamaized.net/prod/116/media-20210420235646-hl5x-0.mpd/stream.mpd"
      ],
      "execution_count": null,
      "outputs": []
    },
    {
      "cell_type": "code",
      "metadata": {
        "id": "QuGuLXWmmib-"
      },
      "source": [
        "!wget https://universalplus.akamaized.net/prod/116/subtitles-20210420235646-hl5x/subtitle.es.vtt"
      ],
      "execution_count": null,
      "outputs": []
    },
    {
      "cell_type": "code",
      "metadata": {
        "colab": {
          "base_uri": "https://localhost:8080/"
        },
        "id": "oCWt_Vntegkt",
        "outputId": "9d2840f7-ce67-4df3-efd7-1a7e2ce591a1"
      },
      "source": [
        "!ls"
      ],
      "execution_count": 35,
      "outputs": [
        {
          "output_type": "stream",
          "text": [
            " audio2.m4a   node_modules  'stream [stream].faudio_es_mp4a.m4a'   video1.mp4\n",
            " audio3.m4a   output.mp4    'stream [stream].fvideo_avc1_2.mp4'\n",
            " drive\t      sample_data    subtitle.es.vtt\n"
          ],
          "name": "stdout"
        }
      ]
    },
    {
      "cell_type": "code",
      "metadata": {
        "id": "FmktBg8ef15C"
      },
      "source": [
        "!mp4decrypt --key 1:eb4a30fd20bbc2f92ffd7abe90eb8ece --show-progress 'stream [stream].fvideo_avc1_2.mp4' video1.mp4"
      ],
      "execution_count": 9,
      "outputs": []
    },
    {
      "cell_type": "code",
      "metadata": {
        "id": "K_fSQYUWgWA8"
      },
      "source": [
        "!mp4decrypt --key 1:eb4a30fd20bbc2f92ffd7abe90eb8ece --show-progress 'stream [stream].faudio_es_mp4a.m4a' audio2.m4a"
      ],
      "execution_count": 10,
      "outputs": []
    },
    {
      "cell_type": "code",
      "metadata": {
        "id": "XUTvkjwEhCnY"
      },
      "source": [
        "!mv 'stream [stream].m4a' audio3.m4a"
      ],
      "execution_count": 15,
      "outputs": []
    },
    {
      "cell_type": "code",
      "metadata": {
        "id": "wWSw1Z41mffK"
      },
      "source": [
        "!ffmpeg -i subtitle.es.vtt -codec:s text subtitles.srt"
      ],
      "execution_count": null,
      "outputs": []
    },
    {
      "cell_type": "code",
      "metadata": {
        "colab": {
          "base_uri": "https://localhost:8080/"
        },
        "id": "uLfmN3yNgbfk",
        "outputId": "7f101e78-cb9b-4ab1-cd48-97950c263ef5"
      },
      "source": [
        "!ls"
      ],
      "execution_count": 2,
      "outputs": [
        {
          "output_type": "stream",
          "text": [
            " audio2.m4a     output.mp4\t\t\t      subtitle.es.vtt\n",
            " audio3.m4a     sample_data\t\t\t      subtitles.srt\n",
            " drive\t       'stream [stream].faudio_es_mp4a.m4a'   video1.mp4\n",
            " node_modules  'stream [stream].fvideo_avc1_2.mp4'\n"
          ],
          "name": "stdout"
        }
      ]
    },
    {
      "cell_type": "code",
      "metadata": {
        "id": "ZJ-HabEgkSgv"
      },
      "source": [
        "!ffmpeg -i video1.mp4 -i audio2.m4a -i audio3.m4a -i subtitles.srt \\\n",
        "-map 0:v -map 1:a -map 2:a -map 3:s\\\n",
        "-metadata:s:a:0 -metadata:s:a:0 title=\"\" \\\n",
        "-metadata:s:a:1 language= -metadata:s:a:1 title=\"\" \\\n",
        "-metadata:s:a:2 language= -metadata:s:a:2 title=\"\" \\\n",
        "-metadata:s:a:3 language= -metadata:s:a:3 title=\"\" \\\n",
        "-c:v copy -c:a copy -c:s copy /content/drive/MyDrive/output.mkv"
      ],
      "execution_count": null,
      "outputs": []
    }
  ]
}